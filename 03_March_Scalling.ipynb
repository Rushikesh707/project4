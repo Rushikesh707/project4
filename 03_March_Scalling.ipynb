{
 "cells": [
  {
   "cell_type": "code",
   "execution_count": 139,
   "id": "40bde313",
   "metadata": {},
   "outputs": [],
   "source": [
    "import pandas as pd\n",
    "from sklearn import linear_model\n",
    "from sklearn.preprocessing import StandardScaler"
   ]
  },
  {
   "cell_type": "code",
   "execution_count": 140,
   "id": "40a1fb2a",
   "metadata": {},
   "outputs": [],
   "source": [
    "scale = StandardScaler()"
   ]
  },
  {
   "cell_type": "code",
   "execution_count": 141,
   "id": "34c8ad88",
   "metadata": {},
   "outputs": [],
   "source": [
    "music= pd.read_csv(\"Desktop\\Project\\spotify.csv\")"
   ]
  },
  {
   "cell_type": "code",
   "execution_count": 142,
   "id": "afeef7a8",
   "metadata": {},
   "outputs": [],
   "source": [
    "X = music.drop(['track_id','artists','album_name','track_name','duration_ms','explicit','key','mode','liveness','track_genre'], axis=1)"
   ]
  },
  {
   "cell_type": "code",
   "execution_count": 143,
   "id": "e3459827",
   "metadata": {},
   "outputs": [],
   "source": [
    "scaledX = scale.fit_transform(X)"
   ]
  },
  {
   "cell_type": "code",
   "execution_count": 144,
   "id": "41df2b98",
   "metadata": {},
   "outputs": [
    {
     "name": "stdout",
     "output_type": "stream",
     "text": [
      "[[-1.73203561  1.78262719  0.62924424 ...  0.92930586 -1.14186279\n",
      "   0.22182318]\n",
      " [-1.73200523  0.97563254 -0.84590798 ... -0.79868969 -1.48971712\n",
      "   0.22182318]\n",
      " [-1.73197484  1.06529861 -0.74218634 ... -1.36568823 -1.528312\n",
      "   0.22182318]\n",
      " ...\n",
      " [ 1.73197484 -0.50385765  0.35841551 ...  1.03730558  0.34125493\n",
      "   0.22182318]\n",
      " [ 1.73200523  0.34797004  0.11639835 ... -0.23554828  0.4607423\n",
      "   0.22182318]\n",
      " [ 1.73203561 -0.50385765 -0.23510276 ...  0.90230593 -1.43270877\n",
      "   0.22182318]]\n"
     ]
    }
   ],
   "source": [
    "print(scaledX)"
   ]
  },
  {
   "cell_type": "code",
   "execution_count": 145,
   "id": "e1daf903",
   "metadata": {},
   "outputs": [],
   "source": [
    "df.to_csv(r'C:\\Users\\Akshay.LAPTOP-28VV15LR\\Desktop\\Project\\export_dataframe.csv', index=False, header=True)"
   ]
  },
  {
   "cell_type": "code",
   "execution_count": null,
   "id": "d09c6d17",
   "metadata": {},
   "outputs": [],
   "source": [
    "music = pd.read_csv(r'C:\\Users\\Akshay.LAPTOP-28VV15LR\\Desktop\\Project\\export_dataframe.csv')\n",
    "music"
   ]
  },
  {
   "cell_type": "code",
   "execution_count": 151,
   "id": "48722cf5",
   "metadata": {},
   "outputs": [],
   "source": [
    "#Decision Tree Classifier using all the features"
   ]
  },
  {
   "cell_type": "code",
   "execution_count": 167,
   "id": "59485e3d",
   "metadata": {},
   "outputs": [
    {
     "name": "stdout",
     "output_type": "stream",
     "text": [
      "Accuracy: 99.90%\n",
      "Time taken to fit the model: 1.62 seconds\n"
     ]
    }
   ],
   "source": [
    "X = music.drop(columns = [\"track_id\", \"artists\", \"album_name\", \"track_name\", \"track_genre\",\"duration_ms\",\"explicit\",\"key\",\"mode\",\"liveness\"])\n",
    "y = music[\"track_genre\"]\n",
    "\n",
    "from sklearn.tree import DecisionTreeClassifier\n",
    "from sklearn.model_selection import train_test_split\n",
    "from sklearn.metrics import accuracy_score\n",
    "import numpy as np\n",
    "import time\n",
    "\n",
    "X_train, X_test, y_train, y_test = train_test_split(X, y, test_size = 0.3)\n",
    "model = DecisionTreeClassifier()\n",
    "\n",
    "start_time = time.time()\n",
    "model.fit(X_train, y_train)\n",
    "end_time = time.time()\n",
    "fitting_time = end_time - start_time\n",
    "\n",
    "predictions = model.predict(X_test)\n",
    "accuracy = accuracy_score(y_test, predictions)\n",
    "\n",
    "print(\"Accuracy: %.2f%%\" % (accuracy * 100.0))\n",
    "\n",
    "# Print the time taken to fit the model\n",
    "print(\"Time taken to fit the model: {:.2f} seconds\".format(fitting_time))"
   ]
  },
  {
   "cell_type": "code",
   "execution_count": null,
   "id": "f00afbba",
   "metadata": {},
   "outputs": [],
   "source": []
  },
  {
   "cell_type": "code",
   "execution_count": 168,
   "id": "7adff834",
   "metadata": {},
   "outputs": [],
   "source": [
    "#K-Nearest Neighbors classification using all the features"
   ]
  },
  {
   "cell_type": "code",
   "execution_count": 170,
   "id": "f7da0871",
   "metadata": {},
   "outputs": [
    {
     "name": "stderr",
     "output_type": "stream",
     "text": [
      "D:\\software\\Anaconda\\lib\\site-packages\\sklearn\\neighbors\\_classification.py:228: FutureWarning: Unlike other reduction functions (e.g. `skew`, `kurtosis`), the default behavior of `mode` typically preserves the axis it acts along. In SciPy 1.11.0, this behavior will change: the default value of `keepdims` will become False, the `axis` over which the statistic is taken will be eliminated, and the value None will no longer be accepted. Set `keepdims` to True or False to avoid this warning.\n",
      "  mode, _ = stats.mode(_y[neigh_ind, k], axis=1)\n"
     ]
    },
    {
     "name": "stdout",
     "output_type": "stream",
     "text": [
      "Accuracy: 99.85%\n",
      "Time taken to fit the model: 0.49 seconds\n"
     ]
    }
   ],
   "source": [
    "X = music.drop(columns = [\"track_id\", \"artists\", \"album_name\", \"track_name\", \"track_genre\",\"duration_ms\",\"explicit\",\"key\",\"mode\",\"liveness\"])\n",
    "y = music[\"track_genre\"]\n",
    "\n",
    "from sklearn.model_selection import train_test_split\n",
    "from sklearn.neighbors import KNeighborsClassifier\n",
    "from sklearn.metrics import accuracy_score\n",
    "import numpy as np\n",
    "import time\n",
    "\n",
    "X_train, X_test, y_train, y_test = train_test_split(X, y, test_size=0.3, random_state=42)\n",
    "\n",
    "knn = KNeighborsClassifier(n_neighbors=3)\n",
    "\n",
    "start_time = time.time()\n",
    "knn.fit(X_train, y_train)\n",
    "end_time = time.time()\n",
    "fitting_time = end_time - start_time\n",
    "\n",
    "y_pred = knn.predict(X_test)\n",
    "\n",
    "accuracy = accuracy_score(y_test, y_pred)\n",
    "print(\"Accuracy: %.2f%%\" % (accuracy * 100.0))\n",
    "# Print the time taken to fit the model\n",
    "print(\"Time taken to fit the model: {:.2f} seconds\".format(fitting_time))"
   ]
  },
  {
   "cell_type": "code",
   "execution_count": null,
   "id": "3a1a2907",
   "metadata": {},
   "outputs": [],
   "source": []
  },
  {
   "cell_type": "code",
   "execution_count": 174,
   "id": "364f5205",
   "metadata": {},
   "outputs": [],
   "source": [
    "#Random Forest classification using all the features"
   ]
  },
  {
   "cell_type": "code",
   "execution_count": 175,
   "id": "435df49d",
   "metadata": {},
   "outputs": [
    {
     "name": "stdout",
     "output_type": "stream",
     "text": [
      "Accuracy: 88.91%\n",
      "Time taken to fit the model: 47.56 seconds\n"
     ]
    }
   ],
   "source": [
    "X = music.drop(columns = [\"track_id\", \"artists\", \"album_name\", \"track_name\", \"track_genre\",\"duration_ms\",\"explicit\",\"key\",\"mode\",\"liveness\"])\n",
    "y = music[\"track_genre\"]\n",
    "\n",
    "from sklearn.model_selection import train_test_split\n",
    "from sklearn.ensemble import RandomForestClassifier\n",
    "from sklearn.metrics import accuracy_score\n",
    "import time\n",
    "\n",
    "X_train, X_test, y_train, y_test = train_test_split(X, y, test_size=0.3, random_state=42)\n",
    "\n",
    "rf = RandomForestClassifier(n_estimators=100, random_state=42)\n",
    "\n",
    "start_time = time.time()\n",
    "rf.fit(X_train, y_train)\n",
    "end_time = time.time()\n",
    "fitting_time = end_time - start_time\n",
    "\n",
    "y_pred =rf.predict(X_test)\n",
    "\n",
    "accuracy = accuracy_score(y_test, y_pred)\n",
    "print(\"Accuracy: %.2f%%\" % (accuracy * 100.0))\n",
    "\n",
    "# Print the time taken to fit the model\n",
    "print(\"Time taken to fit the model: {:.2f} seconds\".format(fitting_time))"
   ]
  },
  {
   "cell_type": "code",
   "execution_count": null,
   "id": "561d9026",
   "metadata": {},
   "outputs": [],
   "source": []
  },
  {
   "cell_type": "code",
   "execution_count": null,
   "id": "5afaac8e",
   "metadata": {},
   "outputs": [],
   "source": [
    "# Do not run"
   ]
  },
  {
   "cell_type": "code",
   "execution_count": null,
   "id": "09aa2366",
   "metadata": {},
   "outputs": [],
   "source": [
    "# SVM Classifier using all the features"
   ]
  },
  {
   "cell_type": "code",
   "execution_count": null,
   "id": "d3edd62c",
   "metadata": {},
   "outputs": [],
   "source": [
    "X = music.drop(columns = [\"track_id\", \"artists\", \"album_name\", \"track_name\", \"track_genre\",\"duration_ms\"])\n",
    "y = music[\"track_genre\"]\n",
    "\n",
    "from sklearn.model_selection import train_test_split\n",
    "from sklearn.svm import SVC\n",
    "from sklearn.metrics import accuracy_score\n",
    "\n",
    "X_train, X_test, y_train, y_test = train_test_split(X, y, test_size=0.3, random_state=42)\n",
    "\n",
    "svm = SVC(kernel='linear')\n",
    "svm.fit(X_train, y_train)\n",
    "\n",
    "# Make predictions on test set\n",
    "y_pred = svm.predict(X_test)\n",
    "\n",
    "# Calculate accuracy of predictions\n",
    "accuracy = accuracy_score(y_test, y_pred)\n",
    "print(\"Accuracy: %.2f%%\" % (accuracy * 100.0))"
   ]
  }
 ],
 "metadata": {
  "kernelspec": {
   "display_name": "Python 3 (ipykernel)",
   "language": "python",
   "name": "python3"
  },
  "language_info": {
   "codemirror_mode": {
    "name": "ipython",
    "version": 3
   },
   "file_extension": ".py",
   "mimetype": "text/x-python",
   "name": "python",
   "nbconvert_exporter": "python",
   "pygments_lexer": "ipython3",
   "version": "3.9.13"
  }
 },
 "nbformat": 4,
 "nbformat_minor": 5
}
